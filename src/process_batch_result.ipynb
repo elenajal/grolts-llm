{
 "cells": [
  {
   "cell_type": "code",
   "execution_count": 2,
   "id": "21a69dd5",
   "metadata": {},
   "outputs": [],
   "source": [
    "import pandas as pd\n",
    "\n",
    "df = pd.read_json(\"./batches_out/500_3.jsonl\", lines=True, dtype={\"custom_id\": str})"
   ]
  },
  {
   "cell_type": "code",
   "execution_count": null,
   "id": "2072cee5",
   "metadata": {},
   "outputs": [],
   "source": [
    "\n",
    "if \"completion\" in df:\n",
    "    responses = df[\"completion\"]\n",
    "    pdf_qid = df[\"custom_id\"].apply(lambda x: {\"pdf\": x.split(\"_\")[0], \"q_id\": x.split(\"_\")[1]})\n",
    "else:\n",
    "    df1 = pd.json_normalize(df[\"response\"].to_numpy(), max_level=1)\n",
    "    responses = df1[\"body.choices\"].apply(lambda x: x[0][\"message\"][\"content\"] if isinstance(x, list) and len(x) > 0 else None)\n",
    "    pdf_qid = df.custom_id.apply(lambda x: {\"pdf\": x.split(\"_\")[0], \"q_id\": x.split(\"_\")[1]})\n",
    "\n",
    "results = []\n",
    "for i in range(len(pdf_qid)):\n",
    "    pdf_id = pdf_qid[i][\"pdf\"]\n",
    "    q_id = pdf_qid[i][\"q_id\"]\n",
    "    response = responses[i]\n",
    "    \n",
    "    parsed_response = {}\n",
    "    current_section = None\n",
    "    for item in response.split(\"\\n\"):\n",
    "        item = item.strip()\n",
    "        if \"ANSWER\" in item:\n",
    "            current_section = \"answer\"\n",
    "            if \"YES\" in item:\n",
    "                parsed_response[\"answer\"] = \"YES\"\n",
    "            elif \"UNSURE\" in item:\n",
    "                parsed_response[\"answer\"] = \"UNSURE\"\n",
    "            elif \"NO\" in item:\n",
    "                parsed_response[\"answer\"] = \"NO\"\n",
    "            else:\n",
    "                parsed_response[\"answer\"] = item.replace(\"ANSWER:\", \"\").strip()\n",
    "        elif \"REASONING\" in item:\n",
    "            current_section = \"reasoning\"\n",
    "            parsed_response[\"reasoning\"] = item.replace(\"REASONING:\", \"\").strip()\n",
    "        elif \"EVIDENCE\" in item:\n",
    "            current_section = \"evidence\"\n",
    "            parsed_response[\"evidence\"] = item.replace(\"EVIDENCE:\", \"\").strip()\n",
    "        elif current_section:\n",
    "            # Append to the current section if the item is a continuation of the previous line\n",
    "            parsed_response[current_section] = (\n",
    "                parsed_response.get(current_section, \"\") + \" \" + item\n",
    "            )\n",
    "    results.append(\n",
    "        {\n",
    "            \"paper_id\": pdf_id,\n",
    "            \"question_id\": q_id,\n",
    "            **parsed_response,\n",
    "        }\n",
    "    )"
   ]
  },
  {
   "cell_type": "code",
   "execution_count": 12,
   "id": "5afa561a",
   "metadata": {},
   "outputs": [],
   "source": [
    "df = pd.DataFrame(results)\n",
    "df.to_csv(\"./outputs/500_3.csv\", index=False)"
   ]
  }
 ],
 "metadata": {
  "kernelspec": {
   "display_name": "grolts",
   "language": "python",
   "name": "python3"
  },
  "language_info": {
   "codemirror_mode": {
    "name": "ipython",
    "version": 3
   },
   "file_extension": ".py",
   "mimetype": "text/x-python",
   "name": "python",
   "nbconvert_exporter": "python",
   "pygments_lexer": "ipython3",
   "version": "3.13.5"
  }
 },
 "nbformat": 4,
 "nbformat_minor": 5
}
