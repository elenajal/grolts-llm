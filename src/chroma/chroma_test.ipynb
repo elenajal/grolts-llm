{
 "cells": [
  {
   "cell_type": "code",
   "execution_count": 1,
   "metadata": {},
   "outputs": [],
   "source": [
    "from langchain_chroma import Chroma\n",
    "\n",
    "db = Chroma(\n",
    "    persist_directory='./BAAI-bge-m3-2000',\n",
    "    collection_metadata={\"hnsw:space\": \"cosine\"},\n",
    ")"
   ]
  },
  {
   "cell_type": "code",
   "execution_count": 2,
   "metadata": {},
   "outputs": [],
   "source": [
    "import pickle\n",
    "with open('../question_embeddings/BAAI-bge-m3_0.pkl', \"rb\") as f:\n",
    "        question_embeddings = pickle.load(f)"
   ]
  },
  {
   "cell_type": "code",
   "execution_count": 3,
   "metadata": {},
   "outputs": [],
   "source": [
    "search_results = db.similarity_search_by_vector(\n",
    "                question_embeddings[0],\n",
    "                k=5,\n",
    "                filter={\"source\": str(\"./data/\" + str(0) + \".pdf\")},\n",
    "            )"
   ]
  },
  {
   "cell_type": "code",
   "execution_count": 4,
   "metadata": {},
   "outputs": [
    {
     "data": {
      "text/plain": [
       "[Document(metadata={'page': 1, 'source': './data/0.pdf', 'start_index': 1901}, page_content='Measures\\nPTSD\\nSymptom severity of PTSD and diagnosis were assessed using\\nCAPS.13 This structured clinical interview is one of the most\\nwidely used tools for diagnosing PTSD and has demonstrated\\nexcellent reliability and validity.14 The CAPS interviews were\\nconducted via telephone, a method that has been shown to be\\nas valid and reliable as face-to-face interviews.15 All interviews\\nwere digitally recorded to ensure ongoing adherence to the\\nprotocol. To test interrater reliability, 5% of all CAPS interviews\\nwere assessed by an independent assessor who was masked to\\nthe original scoring. Overall, the diagnostic consistency on the\\nCAPS was 100%.\\n418\\nBryant et al\\nTable 1 Demographic characteristics\\nTotal, % (n)\\n(n = 1084)\\nMild traumatic brain injury, % (n)\\n(n = 437)\\nNon-mild traumatic brain injury, % (n)\\n(n = 647)\\nGender\\nMale 72.7 (788) 71.7 (310) 73.9 (478)\\nFemale 27.3 (296) 28.3 (127) 26.1 (169)\\nAge\\n18–24 21.2 (230) 26.8 (117) 17.5 (113)\\n25–34 23.3 (253) 24.7 (108) 22.4 (145)\\n35–44 22.6 (245) 20.6 (90) 24.0 (155)\\n45–54 19.4 (210) 16.7 (73) 21.2 (137)\\n55–64 11.2 (121) 10.3 (45) 11.7 (76)\\n65+ 2.3 (25) 0.9 (4) 3.2 (21)\\nType of injury\\nTransport 64.5 (699) 75.9 (332) 56.7 (367)\\nAssault 6.1 (66) 8.7 (38) 4.3 (28)\\nTraumatic fall 14.4 (156) 7.8 (34) 18.9 (122)\\nWork injury 7.2 (78) 2.5 (11) 10.4 (67)\\nOther injury 7.8 (85) 5.0 (22) 9.7 (63)\\nInjury Severity Score\\nMinimum 7.5 (81) 4.8 (21) 9.3 (60)\\nModerate 28.8 (312) 25.4 (111) 31.1 (201)\\nSevere 44.2 (479) 38.0 (166) 48.4 (313)\\nSerious 13.4 (145) 21.3 (93) 8.2 (53)\\nCritical 6.1 (66) 10.5 (46) 3.0 (20)\\nEthnic status\\nWhite 87.6 (950) 86.3 (377) 86.2 (558)\\nOther 12.4 (134) 13.7 (60) 13.8 (89)\\nMarital status\\nMarried/de facto 48.2 (522) 48.5 (212) 47.9 (310)\\nSingle 51.9 (562) 51.5 (225) 52.1 (337)\\nEmployment status\\nEmployed 78.8 (854) 79.2 (346) 78.5 (508)\\nUnemployed 6.0 (65) 5.7 (25) 6.2 (40)\\nNot in laboura 15.2 (165) 15.1 (66) 15.3 (99)\\nEducation\\nBachelor degree or higher 17.2 (186) 16.7 (73) 17.5 (113)'),\n",
       " Document(metadata={'page': 3, 'source': './data/0.pdf', 'start_index': 1857}, page_content='Social 3.03* (1.89–4.85) 1.38* (1.16–1.64) 6.79* (3.16–14.60) 1.51* (1.31–1.75)\\nEnvironmental 5.32* (2.58–10.99) 1.46* (1.24–1.72) 6.42* (3.17–12.99) 1.47* (1.29–1.69)\\n12 months\\nPhysical 5.23* (3.31–8.26) 1.79* (1.48–2.17) 7.98* (3.87–16.42) 1.87* (1.61–2.17)\\nPsychological 6.17* (3.34–11.39) 1.90* (1.59–2.27) 27.61* (10.45–72.88) 1.97* (1.67–2.32)\\nSocial 3.77* (2.19–6.46) 1.59* (1.34–1.90) 6.44* (3.02–13.72) 1.65* (1.41–1.93)\\nEnvironmental 4.07* (2.37–6.99) 1.60* (1.34–1.90) 7.16* (3.36–15.26) 1.65* (1.41–1.94)\\n24 months\\nPhysical 7.09* (3.97–12.68) 2.06* (1.69–2.50) 5.21* (2.17–12.50) 2.05* (1.75–2.41)\\nPsychological 5.08* (2.71–9.55) 1.98* (1.65–2.36) 8.99* (4.13–19.53) 2.30* (1.89–2.81)\\nSocial 3.26* (1.74–6.09) 1.49* (1.25–1.77) 4.35* (1.96–9.50) 1.72* (1.43–2.05)\\nEnvironmental 5.44* (2.59–11.42) 1.69* (1.42–2.01) 4.92* (2.32–10.42) 1.74* (1.48–2.04)\\n6 years\\nPhysical 5.89* (2.74–12.68) 1.97* (1.62–2.40) 2.01 (0.70–5.73) 1.39* (0.98–1.52)\\nPsychological 5.02* (2.34–10.77) 1.99* (1.63–2.42) 2.40 (0.93–6.19) 1.31** (1.10–1.56)\\nSocial 3.49* (1.62–7.48) 1.56* (1.28–1.89) 3.21** (1.31–7.86) 1.34* (1.14–1.61)\\nEnvironmental 3.08* (1.69–5.63) 1.99* (1.64–2.43) 4.83 (1.97–11.81) 1.36* (1.14–1.62)\\n*P50.001; **P50.01.\\nChronic (4%)\\nWorsening/recovery (8%)\\nResilient (73%)\\nRecovery (6%)\\nWorsening (10%)\\nBaseline 3 months 12 months 24 months 6 years\\n100 –\\n90 –\\n80 –\\n70 –\\n60 –\\n50 –\\n40 –\\n30 –\\n20 –\\n10 –\\n0–\\nPTSD severity (CAPS)\\nFig. 1 Trajectories of post-traumatic stress disorder (PTSD) response after traumatic injury.\\nPatients followed five distinct trajectories: a chronic class (4%), a recovery class (6%), a worsening/recovery class (8%), a worsening class (10%) and a resilient class (73%).\\nCAPS, Clinician-Administered PTSD Scale for DSM-IV.\\nhttps://doi.org/10.1192/bjp.bp.114.145516 Published online by Cambridge University Press'),\n",
       " Document(metadata={'page': 2, 'source': './data/0.pdf', 'start_index': 5671}, page_content='inclusion of these covariates. The structure of the five-class\\nsolution remained consistent between the unconditional and\\nconditional models. Class membership proportions, and intercept,\\nlinear slope and quadratic slope parameters for each class are\\npresented in online Table DS2 for the unconditional and\\nconditional models. Class membership remained largely consistent\\nacross the unconditional and conditional models (Chronic\\nunconditional 5.2% v. conditional 5.2%; worsening/recovery\\nunconditional 8.1%v. conditional 8.1%, worsening unconditional\\n9.6% v. conditional 10.2%, recovery unconditional 5.7% v.\\nconditional 8.2%, resilient unconditional 72.3% v. conditional\\n68.3%). Similarly, the magnitude and significance of intercept,\\nlinear slope and quadratic slope parameters remained consistent\\nacross the unconditional and conditional models, with the\\nexception of the quadratic slope component of the resilient class,\\nwhich was statistically significant in the unconditional model, but\\nnot in the conditional model.\\nCovariate predictors of trajectory class\\nFemale gender was associated with membership in the chronic,\\nrecovered, and worsening classes (relative to the resilient class;\\nTable 3). Membership in the chronic, worsening/recovery and\\n419\\nhttps://doi.org/10.1192/bjp.bp.114.145516 Published online by Cambridge University Press'),\n",
       " Document(metadata={'page': 2, 'source': './data/0.pdf', 'start_index': 0}, page_content='Trajectory of post-traumatic stress following traumatic injury\\nLifetime psychiatric disorder\\nThe Mini International Neuropsychiatric Interview Version 5.5\\n(MINI)16 was used at the baseline assessment to assess a diagnosis\\nof major depressive episode, panic disorder, agoraphobia, social\\nphobia, obsessive–compulsive disorder, generalised anxiety\\ndisorder, alcohol misuse and dependence, and marijuana misuse\\nand dependence. The MINI is a short, structured diagnostic inter-\\nview based on the DSM-IV and the ICD-1017 classification of\\nmental illness, especially designed to be used in clinical trials\\nand epidemiological studies. The MINI consists of a set of\\nscreening questions and modules; modules are administered if a\\npatient responds positively to the screening question. The MINI\\nhas good reliability for all diagnosis when compared with the\\nCIDI.16\\nFunctional outcomes\\nWe used the psychological domain scale from the World Health\\nOrganization Quality of Life – Bref (WHOQOL-Bref)18 to\\nmeasure quality of life. The WHOQOL-Bref psychological domain\\nis an eight-item scale that assesses quality of life in terms of\\nperception and satisfaction across a number of life areas. The\\nWHOQOL-Bref demonstrates good discriminant validity, content\\nvalidity, internal consistency and test–retest reliability.18 In the\\ncurrent study, a scoring algorithm was used to standardise scores\\nto a 0–100 scale with higher scores indicating higher quality of life.\\nAustralian population norms were used to identify thresholds\\nand a score of 55.5 was used as the cut-off for poor psychological\\nquality of life.19\\nStressful life events\\nSubsequent aversive events were assessed by an adaptation of\\nthe Recent Life Events Questionnaire.20 The RLEQ indexes the\\noccurrence of 20 common stressful life events that encompass\\nboth traumatic (for example, assaults) and aversive (for example,\\nlosing one’s job) events.\\nData analysis\\nWe employed latent class growth analysis (LCGA) to examine'),\n",
       " Document(metadata={'page': 2, 'source': './data/0.pdf', 'start_index': 1867}, page_content='losing one’s job) events.\\nData analysis\\nWe employed latent class growth analysis (LCGA) to examine\\nPTSD trajectories, using Mplus version 6.2 for Windows.21 LCGA\\nmodels heterogeneity in longitudinal data by identifying symptom\\ntrajectories across time. Mplus employs a robust full information\\nmaximum likelihood estimation procedure to account for missing\\ndata. We first identified the best-fitting unconditional trajectory\\nmodel by comparing the model fit of progressive numbers of\\nclasses. After finding the best fitting unconditional model, we\\nintegrated covariates into this model (conditional model). The\\nfollowing variables were examined on the basis of evidence that\\nthey influence risk for PTSD: gender, age at admission, heart rate\\nupon admission, respiration rate upon admission, ISS, mTBI,\\nadmission into the ICU and psychiatric history.22 Only variables\\nthat significantly predicted class membership were retained (see\\nonline supplement).\\nWe then tested a series of nested models using the five-class\\nsolution to identify covariates that improved model fit. We tested\\nthe same covariates listed above, as well as recent stressful life\\nevents at 3 months, 12 months and 24 months. Only covariates\\nthat were significant predictors of class membership and improved\\nmodel fit were retained in the final solution. We used multiple\\nimputation in MPlus to impute missing values of covariates.\\nLogistic regression analyses were conducted to identify predictors\\nof class membership for the five-class conditional model (see\\nTable 3).\\nResults\\nUnconditional model\\nFigure 1 displays the trajectories identified in the five-class\\nsolution. Individuals in the chronic class (4%) displayed a pattern\\nof initially high levels of PTSD symptoms that increase over the\\nsubsequent 24 months, and remain elevated by the 6 year\\nmeasurement. Those in the recovery class (6%) displayed a pattern\\nof high levels of PTSD symptoms initially that reduce consistently')]"
      ]
     },
     "execution_count": 4,
     "metadata": {},
     "output_type": "execute_result"
    }
   ],
   "source": [
    "search_results"
   ]
  }
 ],
 "metadata": {
  "kernelspec": {
   "display_name": "grolts",
   "language": "python",
   "name": "python3"
  },
  "language_info": {
   "codemirror_mode": {
    "name": "ipython",
    "version": 3
   },
   "file_extension": ".py",
   "mimetype": "text/x-python",
   "name": "python",
   "nbconvert_exporter": "python",
   "pygments_lexer": "ipython3",
   "version": "3.13.1"
  }
 },
 "nbformat": 4,
 "nbformat_minor": 2
}
